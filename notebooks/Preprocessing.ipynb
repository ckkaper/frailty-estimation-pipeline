{
 "cells": [
  {
   "cell_type": "code",
   "execution_count": 100,
   "metadata": {},
   "outputs": [],
   "source": [
    "import pandas as pd\n",
    "import numpy as np\n",
    "from sklearn.preprocessing import LabelEncoder\n",
    "from sklearn import tree\n",
    "from sklearn.metrics import confusion_matrix\n",
    "import matplotlib.pyplot as plt\n",
    "import graphviz "
   ]
  },
  {
   "cell_type": "code",
   "execution_count": 99,
   "metadata": {},
   "outputs": [],
   "source": [
    "# TODO: Check for class imbalances to predict correctly the prediction model"
   ]
  },
  {
   "cell_type": "code",
   "execution_count": 79,
   "metadata": {},
   "outputs": [],
   "source": [
    "data = pd.read_csv('../data/raw/clinical_dataset.csv', sep=';').drop(columns=['weight_loss',\n",
    "                                           'exhaustion_score',\n",
    "                                           'gait_speed_slower',\n",
    "                                           'grip_strength_abnormal',\n",
    "                                           'low_physical_activity'])"
   ]
  },
  {
   "cell_type": "markdown",
   "metadata": {},
   "source": [
    "## Remove Outliers"
   ]
  },
  {
   "cell_type": "code",
   "execution_count": 80,
   "metadata": {},
   "outputs": [],
   "source": [
    "filled_data = data\n",
    "for columns in data: \n",
    "    if (data[columns].dtype == object):\n",
    "        data[columns].replace('Test not adequate', np.nan, inplace=True)\n",
    "        data[columns].replace('test non realizable', np.nan, inplace=True)\n",
    "    elif (data[columns].dtype == np.float64 or data[columns].dtype == np.int64):\n",
    "        data[columns].replace(999, np.nan, inplace=True)\n"
   ]
  },
  {
   "cell_type": "code",
   "execution_count": 81,
   "metadata": {},
   "outputs": [],
   "source": [
    "# Remove null values\n",
    "# TODO: Remove entries of features with missing values\n",
    "# TODO: Remove features with many missing values \n",
    "# Find rows where there are mon than 1 null value\n",
    "\n",
    "\n",
    "for column in data:\n",
    "    # Rplace nan values with the median of each column\n",
    "    if data[column].dtype != object and data[column].dtype != bool:\n",
    "        data[column].fillna(data[column].median(), inplace=True)\n",
    "\n",
    "    # Replace categorical values with the most used column value \n",
    "    elif (data[column].dtype != np.float64 and data[column].dtype != np.int64):\n",
    "         data[column].fillna(data[column].value_counts().index[0], inplace=True)\n"
   ]
  },
  {
   "cell_type": "code",
   "execution_count": 82,
   "metadata": {},
   "outputs": [],
   "source": [
    "# Order categorical data\n",
    "ordered_categories = {\n",
    "    'fried': ['Non frail', 'Pre-frail', 'Frail'],\n",
    "    'gender': ['F', 'M'],\n",
    "    'gait_optional_binary': [True, False],\n",
    "    'ortho_hypotension': ['No', 'Yes'],\n",
    "    'vision': ['Sees well', 'Sees moderately','Sees poorly'  ],\n",
    "    'audition': ['Hears well', 'Hears moderately', 'Hears poorly' ],\n",
    "    'weight_loss': ['No', 'Yes'],\n",
    "    'balance_single': ['>5 sec', '<5 sec'],\n",
    "    'gait_speed_slower': ['No', 'Yes'],\n",
    "    'grip_strength_abnormal': ['No', 'Yes'],\n",
    "    'low_physical_activity': ['No', 'Yes'],\n",
    "    'memory_complain': ['No', 'Yes'],\n",
    "    'sleep': ['No sleep problem', 'Occasional sleep problem', 'Permanent sleep problem'],\n",
    "    'living_alone': ['No', 'Yes'],\n",
    "    'leisure_club': ['Yes', 'No'],\n",
    "    'house_suitable_participant': ['Yes', 'No'],\n",
    "    'house_suitable_professional': ['Yes', 'No'],\n",
    "    'health_rate': [  '5 - Excellent', '4 - Good', '3 - Medium', '2 - Bad', '1 - Very bad'],\n",
    "    'health_rate_comparison': [ '5 - A lot better', '4 - A little better', '3 - About the same', '2 - A little worse',\n",
    "  '1 - A lot worse'],\n",
    "    'activity_regular': ['> 5 h per week', '> 2 h and < 5 h per week', '< 2 h per week',  'No'],\n",
    "    'smoking': ['Never smoked', 'Past smoker (stopped at least 6 months)', 'Current smoker']    \n",
    "}\n",
    "# encode data\n",
    "encoder = LabelEncoder()\n",
    "\n",
    "for column in data:\n",
    "    if data[column].dtype == np.object or data[column].dtype == np.bool:\n",
    "        encoder.fit(data[column])\n",
    "        encoder.classes_ = ordered_categories[column]\n",
    "        data[column] = encoder.transform(data[column]) \n",
    "        \n",
    "data.to_csv('../data/preprocessed/preprocessed.csv', sep=';')"
   ]
  },
  {
   "cell_type": "code",
   "execution_count": 85,
   "metadata": {},
   "outputs": [],
   "source": [
    "# Split dataset to train and test \n",
    "data_shape = data.shape[0]\n",
    "splitter = int(np.ceil(0.8*data_shape))\n",
    "train_data = data.iloc[:splitter]\n",
    "test_data = data.iloc[splitter:]"
   ]
  },
  {
   "cell_type": "code",
   "execution_count": 93,
   "metadata": {},
   "outputs": [
    {
     "data": {
      "text/html": [
       "<div>\n",
       "<style scoped>\n",
       "    .dataframe tbody tr th:only-of-type {\n",
       "        vertical-align: middle;\n",
       "    }\n",
       "\n",
       "    .dataframe tbody tr th {\n",
       "        vertical-align: top;\n",
       "    }\n",
       "\n",
       "    .dataframe thead th {\n",
       "        text-align: right;\n",
       "    }\n",
       "</style>\n",
       "<table border=\"1\" class=\"dataframe\">\n",
       "  <thead>\n",
       "    <tr style=\"text-align: right;\">\n",
       "      <th></th>\n",
       "      <th>part_id</th>\n",
       "      <th>fried</th>\n",
       "      <th>gender</th>\n",
       "      <th>age</th>\n",
       "      <th>hospitalization_one_year</th>\n",
       "      <th>hospitalization_three_years</th>\n",
       "      <th>ortho_hypotension</th>\n",
       "      <th>vision</th>\n",
       "      <th>audition</th>\n",
       "      <th>raise_chair_time</th>\n",
       "      <th>...</th>\n",
       "      <th>health_rate_comparison</th>\n",
       "      <th>pain_perception</th>\n",
       "      <th>activity_regular</th>\n",
       "      <th>smoking</th>\n",
       "      <th>alcohol_units</th>\n",
       "      <th>katz_index</th>\n",
       "      <th>iadl_grade</th>\n",
       "      <th>comorbidities_count</th>\n",
       "      <th>comorbidities_significant_count</th>\n",
       "      <th>medication_count</th>\n",
       "    </tr>\n",
       "  </thead>\n",
       "  <tbody>\n",
       "    <tr>\n",
       "      <th>432</th>\n",
       "      <td>3081</td>\n",
       "      <td>1</td>\n",
       "      <td>0</td>\n",
       "      <td>73</td>\n",
       "      <td>0</td>\n",
       "      <td>0.0</td>\n",
       "      <td>0</td>\n",
       "      <td>0</td>\n",
       "      <td>0</td>\n",
       "      <td>9.15</td>\n",
       "      <td>...</td>\n",
       "      <td>0</td>\n",
       "      <td>3.0</td>\n",
       "      <td>1</td>\n",
       "      <td>0</td>\n",
       "      <td>0.0</td>\n",
       "      <td>5.5</td>\n",
       "      <td>31.0</td>\n",
       "      <td>6</td>\n",
       "      <td>0</td>\n",
       "      <td>2</td>\n",
       "    </tr>\n",
       "    <tr>\n",
       "      <th>433</th>\n",
       "      <td>3082</td>\n",
       "      <td>0</td>\n",
       "      <td>0</td>\n",
       "      <td>74</td>\n",
       "      <td>0</td>\n",
       "      <td>0.0</td>\n",
       "      <td>0</td>\n",
       "      <td>0</td>\n",
       "      <td>0</td>\n",
       "      <td>9.47</td>\n",
       "      <td>...</td>\n",
       "      <td>2</td>\n",
       "      <td>0.2</td>\n",
       "      <td>0</td>\n",
       "      <td>0</td>\n",
       "      <td>7.5</td>\n",
       "      <td>5.5</td>\n",
       "      <td>28.0</td>\n",
       "      <td>1</td>\n",
       "      <td>0</td>\n",
       "      <td>1</td>\n",
       "    </tr>\n",
       "    <tr>\n",
       "      <th>434</th>\n",
       "      <td>3083</td>\n",
       "      <td>2</td>\n",
       "      <td>1</td>\n",
       "      <td>83</td>\n",
       "      <td>0</td>\n",
       "      <td>0.0</td>\n",
       "      <td>0</td>\n",
       "      <td>0</td>\n",
       "      <td>1</td>\n",
       "      <td>23.47</td>\n",
       "      <td>...</td>\n",
       "      <td>3</td>\n",
       "      <td>5.3</td>\n",
       "      <td>1</td>\n",
       "      <td>0</td>\n",
       "      <td>8.0</td>\n",
       "      <td>6.0</td>\n",
       "      <td>30.0</td>\n",
       "      <td>5</td>\n",
       "      <td>1</td>\n",
       "      <td>6</td>\n",
       "    </tr>\n",
       "    <tr>\n",
       "      <th>435</th>\n",
       "      <td>3084</td>\n",
       "      <td>2</td>\n",
       "      <td>0</td>\n",
       "      <td>76</td>\n",
       "      <td>0</td>\n",
       "      <td>0.0</td>\n",
       "      <td>1</td>\n",
       "      <td>0</td>\n",
       "      <td>0</td>\n",
       "      <td>17.06</td>\n",
       "      <td>...</td>\n",
       "      <td>2</td>\n",
       "      <td>4.2</td>\n",
       "      <td>0</td>\n",
       "      <td>1</td>\n",
       "      <td>0.0</td>\n",
       "      <td>6.0</td>\n",
       "      <td>31.0</td>\n",
       "      <td>5</td>\n",
       "      <td>0</td>\n",
       "      <td>2</td>\n",
       "    </tr>\n",
       "    <tr>\n",
       "      <th>436</th>\n",
       "      <td>3085</td>\n",
       "      <td>1</td>\n",
       "      <td>0</td>\n",
       "      <td>79</td>\n",
       "      <td>0</td>\n",
       "      <td>0.0</td>\n",
       "      <td>0</td>\n",
       "      <td>0</td>\n",
       "      <td>0</td>\n",
       "      <td>11.22</td>\n",
       "      <td>...</td>\n",
       "      <td>2</td>\n",
       "      <td>0.0</td>\n",
       "      <td>0</td>\n",
       "      <td>1</td>\n",
       "      <td>10.5</td>\n",
       "      <td>6.0</td>\n",
       "      <td>28.0</td>\n",
       "      <td>8</td>\n",
       "      <td>0</td>\n",
       "      <td>8</td>\n",
       "    </tr>\n",
       "  </tbody>\n",
       "</table>\n",
       "<p>5 rows × 50 columns</p>\n",
       "</div>"
      ],
      "text/plain": [
       "     part_id  fried  gender  age  hospitalization_one_year  \\\n",
       "432     3081      1       0   73                         0   \n",
       "433     3082      0       0   74                         0   \n",
       "434     3083      2       1   83                         0   \n",
       "435     3084      2       0   76                         0   \n",
       "436     3085      1       0   79                         0   \n",
       "\n",
       "     hospitalization_three_years  ortho_hypotension  vision  audition  \\\n",
       "432                          0.0                  0       0         0   \n",
       "433                          0.0                  0       0         0   \n",
       "434                          0.0                  0       0         1   \n",
       "435                          0.0                  1       0         0   \n",
       "436                          0.0                  0       0         0   \n",
       "\n",
       "     raise_chair_time  ...  health_rate_comparison  pain_perception  \\\n",
       "432              9.15  ...                       0              3.0   \n",
       "433              9.47  ...                       2              0.2   \n",
       "434             23.47  ...                       3              5.3   \n",
       "435             17.06  ...                       2              4.2   \n",
       "436             11.22  ...                       2              0.0   \n",
       "\n",
       "     activity_regular  smoking  alcohol_units  katz_index  iadl_grade  \\\n",
       "432                 1        0            0.0         5.5        31.0   \n",
       "433                 0        0            7.5         5.5        28.0   \n",
       "434                 1        0            8.0         6.0        30.0   \n",
       "435                 0        1            0.0         6.0        31.0   \n",
       "436                 0        1           10.5         6.0        28.0   \n",
       "\n",
       "     comorbidities_count  comorbidities_significant_count  medication_count  \n",
       "432                    6                                0                 2  \n",
       "433                    1                                0                 1  \n",
       "434                    5                                1                 6  \n",
       "435                    5                                0                 2  \n",
       "436                    8                                0                 8  \n",
       "\n",
       "[5 rows x 50 columns]"
      ]
     },
     "execution_count": 93,
     "metadata": {},
     "output_type": "execute_result"
    }
   ],
   "source": [
    "test_data.head()"
   ]
  },
  {
   "cell_type": "markdown",
   "metadata": {},
   "source": [
    "### Train"
   ]
  },
  {
   "cell_type": "code",
   "execution_count": 94,
   "metadata": {},
   "outputs": [
    {
     "data": {
      "text/plain": [
       "DecisionTreeClassifier()"
      ]
     },
     "execution_count": 94,
     "metadata": {},
     "output_type": "execute_result"
    }
   ],
   "source": [
    "# Model Decision trees\n",
    "tree_classifier = tree.DecisionTreeClassifier()\n",
    "X = train_data.drop(['fried','part_id'] ,axis=1)\n",
    "tree_classifier.fit(X, train_data['fried'])\n",
    "\n",
    "# train_columns = list(encoded_data.columns)\n",
    "# train_columns.remove(\"part_id\")\n",
    "# fig, ax = plt.subplots( figsize=(18,4))\n",
    "# ax.bar(range(len(train_data.columns)-1),tree_classifier.feature_importances_ )\n",
    "# plt.xticks(range(len(train_data.columns)),train_data.columns,rotation=90)\n",
    "# ax.set_title(\"Feature importance\")\n",
    "# plt.show()"
   ]
  },
  {
   "cell_type": "code",
   "execution_count": 75,
   "metadata": {},
   "outputs": [],
   "source": [
    "# import graphviz \n",
    "# print(len(train_columns))\n",
    "# dot_data = tree.export_graphviz(tree_classifier, \n",
    "#                                 out_file=None,\n",
    "#                                 filled=True, \n",
    "#                                 rounded=True,  \n",
    "#                                 special_characters=True,\n",
    "#                                feature_names =X.columns) \n",
    "# graph = graphviz.Source(dot_data)\n",
    "# graph"
   ]
  },
  {
   "cell_type": "markdown",
   "metadata": {},
   "source": [
    "## Prediction"
   ]
  },
  {
   "cell_type": "code",
   "execution_count": 95,
   "metadata": {},
   "outputs": [],
   "source": [
    "test_without_id = test_data.drop(['fried','part_id'], axis=1)\n",
    "y_predict = tree_classifier.predict(test_without_id)"
   ]
  },
  {
   "cell_type": "markdown",
   "metadata": {},
   "source": [
    "### Evaluation"
   ]
  },
  {
   "cell_type": "code",
   "execution_count": 105,
   "metadata": {},
   "outputs": [
    {
     "name": "stdout",
     "output_type": "stream",
     "text": [
      "[[0.47222222 0.12962963 0.01851852]\n",
      " [0.16666667 0.08333333 0.08333333]\n",
      " [0.00925926 0.03703704 0.        ]]\n"
     ]
    }
   ],
   "source": [
    "results = pd.DataFrame({'id': test_data['part_id'],'Actual': test_data['fried'],'predicted':y_predict})\n",
    "\n",
    "result = confusion_matrix(results['Actual'],results['predicted'], normalize='all')\n",
    "print(result)"
   ]
  },
  {
   "cell_type": "code",
   "execution_count": null,
   "metadata": {},
   "outputs": [],
   "source": []
  }
 ],
 "metadata": {
  "kernelspec": {
   "display_name": "Python [conda env:FrailSafe]",
   "language": "python",
   "name": "conda-env-FrailSafe-py"
  },
  "language_info": {
   "codemirror_mode": {
    "name": "ipython",
    "version": 3
   },
   "file_extension": ".py",
   "mimetype": "text/x-python",
   "name": "python",
   "nbconvert_exporter": "python",
   "pygments_lexer": "ipython3",
   "version": "3.7.9"
  }
 },
 "nbformat": 4,
 "nbformat_minor": 4
}
