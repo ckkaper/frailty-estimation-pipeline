{
 "metadata": {
  "language_info": {
   "codemirror_mode": {
    "name": "ipython",
    "version": 3
   },
   "file_extension": ".py",
   "mimetype": "text/x-python",
   "name": "python",
   "nbconvert_exporter": "python",
   "pygments_lexer": "ipython3",
   "version": "3.7.9-final"
  },
  "orig_nbformat": 2,
  "kernelspec": {
   "name": "python3",
   "display_name": "Python 3.7.9 64-bit ('FrailSafe': conda)",
   "metadata": {
    "interpreter": {
     "hash": "9f897f5611b4d86ca9b1e73385815c751278fdeead4edfe0aec2648c46d7673a"
    }
   }
  }
 },
 "nbformat": 4,
 "nbformat_minor": 2,
 "cells": [
  {
   "cell_type": "code",
   "execution_count": 188,
   "metadata": {},
   "outputs": [],
   "source": [
    "import pandas as pd\n",
    "import numpy as np\n",
    "from sklearn.preprocessing import LabelEncoder\n",
    "from sklearn.cluster import KMeans\n",
    "from sklearn import tree\n",
    "from sklearn.metrics import confusion_matrix, silhouette_score\n",
    "from sklearn.decomposition import PCA\n",
    "import matplotlib.pyplot as plt\n",
    "# import graphviz "
   ]
  },
  {
   "cell_type": "code",
   "execution_count": 170,
   "metadata": {},
   "outputs": [
    {
     "output_type": "stream",
     "name": "stdout",
     "text": [
      "<class 'pandas.core.frame.DataFrame'>\nRangeIndex: 540 entries, 0 to 539\nData columns (total 51 columns):\n #   Column                           Non-Null Count  Dtype  \n---  ------                           --------------  -----  \n 0   Unnamed: 0                       540 non-null    int64  \n 1   part_id                          540 non-null    int64  \n 2   fried                            540 non-null    int64  \n 3   gender                           540 non-null    int64  \n 4   age                              540 non-null    int64  \n 5   hospitalization_one_year         540 non-null    int64  \n 6   hospitalization_three_years      540 non-null    float64\n 7   ortho_hypotension                540 non-null    int64  \n 8   vision                           540 non-null    int64  \n 9   audition                         540 non-null    int64  \n 10  raise_chair_time                 540 non-null    float64\n 11  balance_single                   540 non-null    int64  \n 12  gait_get_up                      540 non-null    float64\n 13  gait_speed_4m                    540 non-null    float64\n 14  gait_optional_binary             540 non-null    int64  \n 15  falls_one_year                   540 non-null    float64\n 16  fractures_three_years            540 non-null    float64\n 17  bmi_score                        540 non-null    float64\n 18  bmi_body_fat                     540 non-null    float64\n 19  waist                            540 non-null    float64\n 20  lean_body_mass                   540 non-null    float64\n 21  screening_score                  540 non-null    int64  \n 22  cognitive_total_score            540 non-null    float64\n 23  memory_complain                  540 non-null    int64  \n 24  sleep                            540 non-null    int64  \n 25  mmse_total_score                 540 non-null    int64  \n 26  depression_total_score           540 non-null    float64\n 27  anxiety_perception               540 non-null    float64\n 28  living_alone                     540 non-null    int64  \n 29  leisure_out                      540 non-null    float64\n 30  leisure_club                     540 non-null    int64  \n 31  social_visits                    540 non-null    float64\n 32  social_calls                     540 non-null    float64\n 33  social_phone                     540 non-null    float64\n 34  social_skype                     540 non-null    float64\n 35  social_text                      540 non-null    float64\n 36  house_suitable_participant       540 non-null    int64  \n 37  house_suitable_professional      540 non-null    int64  \n 38  stairs_number                    540 non-null    float64\n 39  life_quality                     540 non-null    float64\n 40  health_rate                      540 non-null    int64  \n 41  health_rate_comparison           540 non-null    int64  \n 42  pain_perception                  540 non-null    float64\n 43  activity_regular                 540 non-null    int64  \n 44  smoking                          540 non-null    int64  \n 45  alcohol_units                    540 non-null    float64\n 46  katz_index                       540 non-null    float64\n 47  iadl_grade                       540 non-null    float64\n 48  comorbidities_count              540 non-null    int64  \n 49  comorbidities_significant_count  540 non-null    int64  \n 50  medication_count                 540 non-null    int64  \ndtypes: float64(25), int64(26)\nmemory usage: 215.3 KB\n<class 'pandas.core.frame.DataFrame'>\nRangeIndex: 58633 entries, 0 to 58632\nData columns (total 2 columns):\n #   Column   Non-Null Count  Dtype \n---  ------   --------------  ----- \n 0   part_id  58633 non-null  object\n 1   room     58613 non-null  object\ndtypes: object(2)\nmemory usage: 916.3+ KB\n"
     ]
    }
   ],
   "source": [
    "beacons_data = pd.read_csv('../data/raw/beacons_dataset.csv', sep=';').drop(columns=['ts_date','ts_time'])\n",
    "clinical_data = pd.read_csv('../data/preprocessed/preprocessed.csv', sep=';')\n",
    "clinical_data.info()\n",
    "beacons_data.info()"
   ]
  },
  {
   "cell_type": "code",
   "execution_count": 171,
   "metadata": {
    "tags": []
   },
   "outputs": [
    {
     "output_type": "execute_result",
     "data": {
      "text/plain": [
       "291"
      ]
     },
     "metadata": {},
     "execution_count": 171
    }
   ],
   "source": [
    "\n",
    "for index, row in beacons_data.iterrows(): \n",
    "    if (not len(row['part_id']) == 4 or not row['part_id'].isdigit()):\n",
    "       beacons_data.drop(index, inplace=True)\n",
    "\n",
    "len(beacons_data['part_id'].unique())\n",
    "        "
   ]
  },
  {
   "cell_type": "code",
   "execution_count": 172,
   "metadata": {},
   "outputs": [],
   "source": [
    "replacement_dict = { \n",
    "       'Kitchen': dict.fromkeys({'Kitcheb', 'Kithen', 'Kitchen2', 'Kitvhen', 'Kichen', 'Kiychen', 'Kitcen', 'Kitch', 'kitchen'}, 'Kitchen'),\n",
    "       'Bedroom': dict.fromkeys({'Bedroom2', 'Bedroom1', 'bedroom', 'Bedroom-1', 'Bedroom1st', 'Chambre', 'Bed'}, 'Bedroom'), \n",
    "       'Outdoor': dict.fromkeys({'Veranda', 'Garden', 'Guard'}, 'Outdoor'),\n",
    "       'Livingroom': dict.fromkeys({'TV', 'Livingroon', 'Livingroon', 'livingroom', 'LivingRoom2', 'Luvingroom1', 'SeatingRoom', 'LivibgRoom', 'Sitingroom', 'Livingroom1', 'Livingroom2', 'Leavingroom', 'Sittingroom', 'LivingRoom', 'Living', 'Livroom', 'Sittigroom', 'Liningroom', 'LeavingRoom', 'Sittinroom', 'SittingOver', 'SittingRoom'}, 'Livingroom'),\n",
    "       'Bathroom': dict.fromkeys({'Barhroom', 'Baghroom', 'Bathroom-1', 'Bathroom1', 'Bathroon', 'Bathroim', 'Bsthroom'},'Bathroom'), \n",
    "       'Entry': dict.fromkeys({'Entrance', 'ExitHall', 'Hall'},'Entry'),\n",
    "       'Office': dict.fromkeys({'Desk', 'Office1', 'Library', 'Workroom', 'Office2', 'Office-2', 'Office1st'},'Office'),\n",
    "       'DiningRoom': dict.fromkeys({'DinningRoom', 'Dinerroom', 'DinerRoom','DinnerRoom' }, 'DiningRoom'),\n",
    "       'nan': dict.fromkeys({'Right', 'Left', 'Two', 'Three', 'One', '2ndRoom', 'three', 'Four', 'Box', 'Box-1', 'K', 'T'},'nan'), \n",
    "       'Storage': dict.fromkeys({'Pantry', 'Garage'},'Storage'), \n",
    "       'Entry': dict.fromkeys({'Entrance', 'ExitHall', 'Hall'},'Entry')\n",
    "}\n",
    "\n",
    "for column in replacement_dict:\n",
    "    beacons_data['room'].replace(replacement_dict[column], inplace=True)\n",
    "\n",
    " "
   ]
  },
  {
   "source": [
    "# New Dataset"
   ],
   "cell_type": "markdown",
   "metadata": {}
  },
  {
   "cell_type": "code",
   "execution_count": 191,
   "metadata": {
    "tags": []
   },
   "outputs": [
    {
     "output_type": "stream",
     "name": "stdout",
     "text": [
      "291\n"
     ]
    }
   ],
   "source": [
    "def divide(number1, number2):\n",
    "    return round(float(number1 / number2), 2)\n",
    "\n",
    "records = {}\n",
    "bedroom = {}\n",
    "bathroom = {}\n",
    "livingroom = {}\n",
    "kitchen = {}\n",
    "person_dict = { 'part_id':[], 'Bedroom':[], 'Bathroom':[], 'Livingroom':[],'Kitchen':[]}\n",
    "for value in beacons_data.part_id.unique():\n",
    "    records[value] = len(beacons_data[(beacons_data.part_id == value)])\n",
    "    bedroom[value] = len(beacons_data[(beacons_data.part_id == value) & (beacons_data.room == \"Bedroom\")]) \n",
    "    bathroom[value] = len(beacons_data[(beacons_data.part_id == value) & (beacons_data.room == \"Bathroom\")]) \n",
    "    livingroom[value] = len(beacons_data[(beacons_data.part_id == value) & (beacons_data.room == \"Livingroom\")]) \n",
    "    kitchen[value] = len(beacons_data[(beacons_data.part_id == value) & (beacons_data.room == \"Kitchen\")]) \n",
    "    person_dict['part_id'].append(int(value))\n",
    "    person_dict['Bedroom'].append(divide(bedroom[value],records[value]))\n",
    "    person_dict['Bathroom'].append(divide(bathroom[value],records[value]))\n",
    "    person_dict['Livingroom'].append(divide(livingroom[value],records[value]))\n",
    "    person_dict['Kitchen'].append(divide(kitchen[value],records[value]))\n",
    "\n",
    "new_beacons_data = pd.DataFrame(person_dict)\n",
    "print(len(new_beacons_data))"
   ]
  },
  {
   "cell_type": "code",
   "execution_count": 174,
   "metadata": {},
   "outputs": [],
   "source": [
    "merged_dataset= pd.merge(new_beacons_data, clinical_data)"
   ]
  },
  {
   "source": [
    "### Clustering"
   ],
   "cell_type": "markdown",
   "metadata": {}
  },
  {
   "cell_type": "code",
   "execution_count": 192,
   "metadata": {},
   "outputs": [
    {
     "output_type": "stream",
     "name": "stdout",
     "text": [
      "0.7351198455195658\n"
     ]
    }
   ],
   "source": [
    "kmeans = KMeans(n_clusters=3, random_state=0).fit(merged_dataset)\n",
    "labels = kmeans.labels_\n",
    "score = silhouette_score(merged_dataset, labels)\n",
    "print(score)"
   ]
  },
  {
   "cell_type": "code",
   "execution_count": 196,
   "metadata": {},
   "outputs": [
    {
     "output_type": "stream",
     "name": "stdout",
     "text": [
      "0.7418672857603282\n"
     ]
    }
   ],
   "source": [
    "X = PCA(n_components=5).fit_transform(merged_dataset)\n",
    "kmeans = KMeans(n_clusters=3, random_state=0).fit(X)\n",
    "labels = kmeans.labels_\n",
    "score = silhouette_score(X, labels)\n",
    "print(score)"
   ]
  },
  {
   "cell_type": "code",
   "execution_count": null,
   "metadata": {},
   "outputs": [],
   "source": []
  }
 ]
}